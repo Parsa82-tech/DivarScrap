{
  "nbformat": 4,
  "nbformat_minor": 0,
  "metadata": {
    "colab": {
      "provenance": [],
      "include_colab_link": true
    },
    "kernelspec": {
      "name": "python3",
      "display_name": "Python 3"
    },
    "language_info": {
      "name": "python"
    }
  },
  "cells": [
    {
      "cell_type": "markdown",
      "metadata": {
        "id": "view-in-github",
        "colab_type": "text"
      },
      "source": [
        "<a href=\"https://colab.research.google.com/github/Parsa82-tech/DivarScrap/blob/main/PhoneNumberFind.ipynb\" target=\"_parent\"><img src=\"https://colab.research.google.com/assets/colab-badge.svg\" alt=\"Open In Colab\"/></a>"
      ]
    },
    {
      "cell_type": "code",
      "execution_count": null,
      "metadata": {
        "colab": {
          "base_uri": "https://localhost:8080/"
        },
        "id": "AMxemo8vSuFW",
        "outputId": "f0b5f1b0-568f-4e72-b729-eb33f1afccc3"
      },
      "outputs": [
        {
          "output_type": "stream",
          "name": "stdout",
          "text": [
            "['+989035558187', '+989995558916', '+989995559274', '+989015554264', '+989995554383', '+989995551671', None, None, None, None, None, None, None]\n"
          ]
        }
      ],
      "source": [
        "import re\n",
        "def verified_number(text):\n",
        "\n",
        "    if text.startswith(\"+98\") or text.startswith(\"09\"):\n",
        "      return text\n",
        "def remove_q(text):\n",
        "    #re_list = [\" \",\"-\",\"(\",\")\"]\n",
        "\n",
        "    new_text = text.replace(\" \", \"\")\n",
        "    new_text = new_text.replace(\"-\", \"\")\n",
        "    new_text = new_text.replace(\")\", \"\")\n",
        "    new_text = new_text.replace(\"(\", \"\")\n",
        "\n",
        "    return new_text\n",
        "\n",
        "\n",
        "num_list = [\"+98-903-555-8187\",\"+98-999-555-8916\",\n",
        "            \"+98-999-555-9274\",\n",
        "            \"+98 901 555 4264\",\n",
        "            \"+989995554383\",\n",
        "            \"+98-999-555-1671\",\n",
        "            \"87878788\",\n",
        "            \"920 433 7930\",\n",
        "            \"920 363 4058\",\n",
        "            \"920 169 1663\",\n",
        "            \"920 844 8736\",\n",
        "            \"920 975 6093\",\n",
        "            \"920 970 9771\"]\n",
        "new_list =[]\n",
        "for i in num_list:\n",
        "  new_list.append(remove_q(i))\n",
        "\n",
        "#print(new_list)\n",
        "#print(remove_q(\"867 765 7676\"))\n",
        "num = [verified_number(num) for num in new_list]\n",
        "print( num)"
      ]
    },
    {
      "cell_type": "code",
      "source": [
        "import re\n",
        "string2 = '''oswaldo.kulas@volkman.com\n",
        "zander.heidenreich@prohaska.com\n",
        "stark.mitchel@zulauf.info\n",
        "test@example.co.uk\n",
        "elsa.bins@treutel.com\n",
        "pollich.providenci@feeney.com\n",
        "donald.jaskolski@yahoo.com\n",
        "padberg.clemens@glover.info\n",
        "larue.effertz@will.biztest\n",
        ".user@example.co.uk\n",
        "izabella.goyette@erdman.com\n",
        "harris.maye@yahoo.com\n",
        "harber.ernestine@lakin.net\n",
        "fredy.huels@yahoo.com\n",
        "ovonrueden@yahoo.com\n",
        "keely.metz@jacobi.com\n",
        "dillon.harber@hotmail.com\n",
        "bsmith@gmail.com\n",
        "teagan.abbott@schowalter.biz\n",
        "alyce79@gmail.com\n",
        "hudson73@russel.com\n",
        "aconsidine@yahoo.com\n",
        "uhettinger@hotmail.com\n",
        "qmclaughlin@hotmail.com\n",
        "ykreiger@gmail.com\n",
        "dstamm@feest.net\n",
        "letitia89@dubuque.info\n",
        "francis08@gmail.com\n",
        "watsica.helena@gmail.com\n",
        "keara.altenwerth@blanda.info\n",
        "rolfson.joana@gmail.com\n",
        "vmurazik@kshlerin.com\n",
        "test.user2@example.co.us\n",
        "joshuah.upton@gmail.com\n",
        "hartmann.jaden@rath.com\n",
        "ltillman@quitzon.com\n",
        "kzulauf@gmail.com\n",
        "spurdy@nitzsche.biz\n",
        "kstoltenberg@hotmail.com\n",
        "kiehn.lucy@funk.org\n",
        "predovic.kira@yahoo.com\n",
        "dorian02@hotmail.com\n",
        "brandyn86@gmail.com\n",
        "rex.harris@jacobi.com\n",
        "twitting@gmail.com\n",
        "sstrosin@gmail.com\n",
        "brekke.carrie@stroman.org\n",
        "nikko78@hotmail.com\n",
        "syble13@yahoo.com\n",
        "laron.anderson@fahey.net\n",
        "tconnelly@hotmail.com\n",
        "elyse.hickle@kohler.com\n",
        "richie23@gmail.com\n",
        "test.user@example.co.uk\n",
        "\n",
        "(990) 626-0039\n",
        "(635) 605-5780\n",
        "(451) 376-9701\n",
        "(756) 627-2727\n",
        "(624) 970-8514\n",
        "(881) 270-1066\n",
        "(350) 943-5270\n",
        "(767) 370-1441\n",
        "(829) 630-1597\n",
        "(345) 828-0201\n",
        "(973) 542-6548\n",
        "+98-902-555-3782\n",
        "+98-901-555-7628\n",
        "+98-920-555-3844\n",
        "+98-999-555-2924\n",
        "+98-915-552-5205\n",
        "+98-999-555-9021\n",
        "+98-920-555-6856\n",
        "+98-922-555-8665\n",
        "+98-902-555-8721\n",
        "+98-990-555-7636\n",
        "+98-936-555-9136\n",
        "+98-921-555-7425\n",
        "+98-903-555-2416\n",
        "+98-930-555-1857\n",
        "+98-915-559-9740\n",
        "+98-922-555-4184\n",
        "+98-999-555-3042\n",
        "+989905558812\n",
        "+98-903-555-8187\n",
        "+98-999-555-8916\n",
        "+98-999-555-9274\n",
        "+98 901 555 4264\n",
        "+98-920-555-0852\n",
        "+98-999-555-1643\n",
        "+98-901-555-5025\n",
        "+98-922-555-6189\n",
        "+98-999-555-9872\n",
        "+98 915 558 4749\n",
        "+98-999-555-2572\n",
        "+98-902-555-4778\n",
        "+98-999-555-6841\n",
        "+98 915 557 3854\n",
        "+98-915-558-4505\n",
        "+98-999-555-4338\n",
        "+98-915-557-5749\n",
        "+98-990-555-1422\n",
        "+98-901-555-1413\n",
        "+989905558015\n",
        "+989995554383\n",
        "+98-999-555-1671\n",
        "920 612 1242\n",
        "920 734 0141\n",
        "920 561 0322\n",
        "920 433 7930\n",
        "920 363 4058\n",
        "920 169 1663\n",
        "920 844 8736\n",
        "0920 556 8407\n",
        "920 975 6093\n",
        "920 970 9771\n",
        "920 634 9605\n",
        "09206349606\n",
        "920 293 7305\n",
        "920 767 7034\n",
        "920 792 3619\n",
        "920 347 7604\n",
        "920 939 8561\n",
        "273838737737\n",
        "920 054 4718\n",
        "920 951 3468\n",
        "920 261 8642\n",
        "920 244 5046\n",
        "920 675 7077\n",
        "920 016 3262\n",
        "920 258 3337\n",
        "920 445 8299\n",
        "092265482646\n",
        "920 178 5889\n",
        "920 957 0071\n",
        "626726636722\n",
        "920 235 0377\n",
        "920 179 7745\n",
        "920 291 3490\n",
        "920 522 0601\n",
        "277367377277\n",
        "9225117526\n",
        "920 511 7526\n",
        "0920 357 5556'''\n",
        "pattern2 = r'[\\w\\.-]+@[\\w\\.-]+\\.\\w{3}$'\n",
        "ls = string2.split(\"\\n\")\n",
        "result1 = []\n",
        "for mail in ls :\n",
        "    matches = re.findall(pattern2, mail)\n",
        "    result1.extend(matches)\n",
        "# print(f'All mails found: {result1}')\n",
        "\n",
        "ls1 = list(filter(lambda x: x.endswith('gmail.com'), result1))\n",
        "ls2 = list(filter(lambda x: x.endswith('yahoo.com'), result1))\n",
        "ls_num = [remove_q(i) for i in ls]\n",
        "ls_num = [verified_number(num) for num in ls_num if verified_number(num)!= None ]\n",
        "\n",
        "print(ls1 , 'AND', ls2)\n",
        "list_1 = []\n",
        "for i in ls1:\n",
        "  sub = [i,'gmail.com']\n",
        "  list_1.append(sub)\n",
        "for i in ls2:\n",
        "  sub = [i,'yahoo.com']\n",
        "  list_1.append(sub)\n"
      ],
      "metadata": {
        "colab": {
          "base_uri": "https://localhost:8080/"
        },
        "id": "FmaPPZ9PpcQU",
        "outputId": "8c0fdb3f-62f3-4033-93fb-33ebd1639c09"
      },
      "execution_count": null,
      "outputs": [
        {
          "output_type": "stream",
          "name": "stdout",
          "text": [
            "['bsmith@gmail.com', 'alyce79@gmail.com', 'ykreiger@gmail.com', 'francis08@gmail.com', 'watsica.helena@gmail.com', 'rolfson.joana@gmail.com', 'joshuah.upton@gmail.com', 'kzulauf@gmail.com', 'brandyn86@gmail.com', 'twitting@gmail.com', 'sstrosin@gmail.com', 'richie23@gmail.com'] AND ['donald.jaskolski@yahoo.com', 'harris.maye@yahoo.com', 'fredy.huels@yahoo.com', 'ovonrueden@yahoo.com', 'aconsidine@yahoo.com', 'predovic.kira@yahoo.com', 'syble13@yahoo.com']\n"
          ]
        }
      ]
    },
    {
      "cell_type": "code",
      "source": [
        "#len(list_1)\n",
        "#len(ls_num)\n",
        "#for i in range(0 , len(ls_num)-len(list_1)):\n",
        "#  list_1.append(\"None\")\n",
        "print(len(ls_num) , len(list_1) )"
      ],
      "metadata": {
        "colab": {
          "base_uri": "https://localhost:8080/"
        },
        "id": "h_2EHyCNtfBd",
        "outputId": "23163d8e-709a-4cd6-a9f8-98a41223bd85"
      },
      "execution_count": null,
      "outputs": [
        {
          "output_type": "stream",
          "name": "stdout",
          "text": [
            "44 19\n"
          ]
        }
      ]
    },
    {
      "cell_type": "code",
      "source": [
        "new = []\n",
        "for i in range (len(ls_num)) :\n",
        "  if i>=len(list_1):\n",
        "    sub=[ls_num[i] , None , None]\n",
        "  else :\n",
        "    sub = [ls_num[i], list_1[i][0] , list_1[i][1]]\n",
        "  new.append(sub)\n",
        "\n"
      ],
      "metadata": {
        "id": "TTrtL5MT0wgL"
      },
      "execution_count": null,
      "outputs": []
    },
    {
      "cell_type": "code",
      "source": [
        "new"
      ],
      "metadata": {
        "colab": {
          "base_uri": "https://localhost:8080/"
        },
        "id": "yIFEhc-32KLg",
        "outputId": "332d9834-7d44-4de4-9c68-315647d1621e"
      },
      "execution_count": null,
      "outputs": [
        {
          "output_type": "execute_result",
          "data": {
            "text/plain": [
              "[['+989025553782', 'bsmith@gmail.com', 'gmail.com'],\n",
              " ['+989015557628', 'alyce79@gmail.com', 'gmail.com'],\n",
              " ['+989205553844', 'ykreiger@gmail.com', 'gmail.com'],\n",
              " ['+989995552924', 'francis08@gmail.com', 'gmail.com'],\n",
              " ['+989155525205', 'watsica.helena@gmail.com', 'gmail.com'],\n",
              " ['+989995559021', 'rolfson.joana@gmail.com', 'gmail.com'],\n",
              " ['+989205556856', 'joshuah.upton@gmail.com', 'gmail.com'],\n",
              " ['+989225558665', 'kzulauf@gmail.com', 'gmail.com'],\n",
              " ['+989025558721', 'brandyn86@gmail.com', 'gmail.com'],\n",
              " ['+989905557636', 'twitting@gmail.com', 'gmail.com'],\n",
              " ['+989365559136', 'sstrosin@gmail.com', 'gmail.com'],\n",
              " ['+989215557425', 'richie23@gmail.com', 'gmail.com'],\n",
              " ['+989035552416', 'donald.jaskolski@yahoo.com', 'yahoo.com'],\n",
              " ['+989305551857', 'harris.maye@yahoo.com', 'yahoo.com'],\n",
              " ['+989155599740', 'fredy.huels@yahoo.com', 'yahoo.com'],\n",
              " ['+989225554184', 'ovonrueden@yahoo.com', 'yahoo.com'],\n",
              " ['+989995553042', 'aconsidine@yahoo.com', 'yahoo.com'],\n",
              " ['+989905558812', 'predovic.kira@yahoo.com', 'yahoo.com'],\n",
              " ['+989035558187', 'syble13@yahoo.com', 'yahoo.com'],\n",
              " ['+989995558916', None, None],\n",
              " ['+989995559274', None, None],\n",
              " ['+989015554264', None, None],\n",
              " ['+989205550852', None, None],\n",
              " ['+989995551643', None, None],\n",
              " ['+989015555025', None, None],\n",
              " ['+989225556189', None, None],\n",
              " ['+989995559872', None, None],\n",
              " ['+989155584749', None, None],\n",
              " ['+989995552572', None, None],\n",
              " ['+989025554778', None, None],\n",
              " ['+989995556841', None, None],\n",
              " ['+989155573854', None, None],\n",
              " ['+989155584505', None, None],\n",
              " ['+989995554338', None, None],\n",
              " ['+989155575749', None, None],\n",
              " ['+989905551422', None, None],\n",
              " ['+989015551413', None, None],\n",
              " ['+989905558015', None, None],\n",
              " ['+989995554383', None, None],\n",
              " ['+989995551671', None, None],\n",
              " ['09205568407', None, None],\n",
              " ['09206349606', None, None],\n",
              " ['092265482646', None, None],\n",
              " ['09203575556', None, None]]"
            ]
          },
          "metadata": {},
          "execution_count": 97
        }
      ]
    },
    {
      "cell_type": "code",
      "source": [
        "import csv\n",
        "\n",
        "\n",
        "# field names\n",
        "fields = ['Phone Number' , 'Email' , 'Domain']\n",
        "\n",
        "# data rows of csv file\n",
        "rows = [ new]\n",
        "\n",
        "\n",
        "with open('People.csv', 'w') as f:\n",
        "\n",
        "\t# using csv.writer method from CSV package\n",
        "\twrite = csv.writer(f)\n",
        "\n",
        "\twrite.writerow(fields)\n",
        "\twrite.writerows(new)\n"
      ],
      "metadata": {
        "id": "p2DFrZk3k9C5"
      },
      "execution_count": null,
      "outputs": []
    }
  ]
}